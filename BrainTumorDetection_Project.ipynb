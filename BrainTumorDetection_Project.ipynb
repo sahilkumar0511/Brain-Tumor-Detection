{
  "nbformat": 4,
  "nbformat_minor": 0,
  "metadata": {
    "colab": {
      "provenance": []
    },
    "kernelspec": {
      "name": "python3",
      "display_name": "Python 3"
    },
    "language_info": {
      "name": "python"
    }
  },
  "cells": [
    {
      "cell_type": "code",
      "execution_count": null,
      "metadata": {
        "id": "6oFzkTqtr42Z"
      },
      "outputs": [],
      "source": [
        "from google.colab import drive"
      ]
    },
    {
      "cell_type": "markdown",
      "source": [],
      "metadata": {
        "id": "S-jRL0hCCHEm"
      }
    },
    {
      "cell_type": "code",
      "source": [
        "drive.mount('/content/drive')"
      ],
      "metadata": {
        "colab": {
          "base_uri": "https://localhost:8080/"
        },
        "id": "VSFR-TOesO7L",
        "outputId": "54555d07-f03b-4027-cf18-2617a924bdf9"
      },
      "execution_count": null,
      "outputs": [
        {
          "output_type": "stream",
          "name": "stdout",
          "text": [
            "Mounted at /content/drive\n"
          ]
        }
      ]
    },
    {
      "cell_type": "code",
      "source": [
        "import numpy as np\n",
        "import matplotlib.pyplot as plt\n",
        "import os\n",
        "import math\n",
        "import shutil\n",
        "import glob\n",
        "import warnings\n",
        "warnings.filterwarnings('ignore')"
      ],
      "metadata": {
        "id": "b0bcCM8rsZ9-"
      },
      "execution_count": null,
      "outputs": []
    },
    {
      "cell_type": "code",
      "source": [
        "ROOT_DIR = \"/content/drive/MyDrive/datasets\"\n",
        "number_of_images = {}\n",
        "\n",
        "for dir in os.listdir(ROOT_DIR):\n",
        "  number_of_images[dir] = len(os.listdir(os.path.join(ROOT_DIR, dir)) )\n",
        "\n",
        "number_of_images.items()"
      ],
      "metadata": {
        "colab": {
          "base_uri": "https://localhost:8080/"
        },
        "id": "R0Tr_vFfse4G",
        "outputId": "0737377a-c715-4bf7-90dd-1d7135f932a1"
      },
      "execution_count": null,
      "outputs": [
        {
          "output_type": "execute_result",
          "data": {
            "text/plain": [
              "dict_items([('no', 1500), ('yes', 1500)])"
            ]
          },
          "metadata": {},
          "execution_count": 4
        }
      ]
    },
    {
      "cell_type": "code",
      "source": [
        "def dataFolder(p, split):\n",
        "    if not os.path.exists(\"./\" + p):\n",
        "        os.mkdir(\"./\" + p)\n",
        "\n",
        "        for dir in os.listdir(ROOT_DIR):\n",
        "            os.makedirs(\"./\" + p + \"/\" + dir, exist_ok=True)\n",
        "            images_dir = os.path.join(ROOT_DIR, dir)\n",
        "            images_list = os.listdir(images_dir)\n",
        "            num_images = len(images_list)\n",
        "            num_images_to_copy = math.floor(split * num_images) - 5\n",
        "\n",
        "            selected_images = np.random.choice(images_list, size=num_images_to_copy, replace=False)\n",
        "\n",
        "            for img in selected_images:\n",
        "                src_path = os.path.join(images_dir, img)\n",
        "                dest_path = os.path.join(\"./\" + p, dir)\n",
        "                shutil.copy(src_path, dest_path)\n",
        "                # os.remove(src_path)\n",
        "    else:\n",
        "        print(f\"{p} Folder exists\")"
      ],
      "metadata": {
        "id": "0eZN-rvasgtF"
      },
      "execution_count": null,
      "outputs": []
    },
    {
      "cell_type": "code",
      "source": [
        "dataFolder(\"train\",0.8)"
      ],
      "metadata": {
        "id": "Wge_KAeqsnHV"
      },
      "execution_count": null,
      "outputs": []
    },
    {
      "cell_type": "code",
      "source": [
        "# dataFolder(\"val\",0.15)"
      ],
      "metadata": {
        "id": "HRNzbYd1uGY4"
      },
      "execution_count": null,
      "outputs": []
    },
    {
      "cell_type": "code",
      "source": [
        "dataFolder(\"test\",0.2)"
      ],
      "metadata": {
        "id": "zgCkws_auWRO"
      },
      "execution_count": null,
      "outputs": []
    },
    {
      "cell_type": "code",
      "source": [
        "from keras.layers import Conv2D,MaxPool2D,Dropout,Flatten,Dense,BatchNormalization,GlobalAvgPool2D\n",
        "from keras.models import Sequential\n",
        "from tensorflow.keras.preprocessing.image import ImageDataGenerator\n",
        "import keras"
      ],
      "metadata": {
        "id": "dD-Mh6EQudA2"
      },
      "execution_count": null,
      "outputs": []
    },
    {
      "cell_type": "code",
      "source": [
        "#CNN Model\n",
        "model=Sequential()\n",
        "model.add(Conv2D(filters=16,kernel_size=(3,3),activation='relu',input_shape=(224,224,3)))\n",
        "\n",
        "model.add(Conv2D(filters=36,kernel_size=(3,3),activation='relu'))\n",
        "model.add(MaxPool2D(pool_size=(2,2)))\n",
        "\n",
        "model.add(Conv2D(filters=64,kernel_size=(3,3),activation='relu'))\n",
        "model.add(MaxPool2D(pool_size=(2,2)))\n",
        "\n",
        "model.add(Conv2D(filters=128,kernel_size=(3,3),activation='relu'))\n",
        "model.add(MaxPool2D(pool_size=(2,2)))\n",
        "\n",
        "model.add(Dropout(rate=0.25))\n",
        "\n",
        "\n",
        "model.add(Flatten())\n",
        "model.add(Dense(units=64,activation='relu'))\n",
        "model.add(Dropout(rate=0.25))\n",
        "model.add(Dense(units=1,activation='sigmoid'))\n",
        "\n",
        "\n",
        "model.summary()"
      ],
      "metadata": {
        "colab": {
          "base_uri": "https://localhost:8080/"
        },
        "id": "Ba9zX3jZugFz",
        "outputId": "9cbea311-67c2-4aa8-e4c0-eecdba4ae7e2"
      },
      "execution_count": null,
      "outputs": [
        {
          "output_type": "stream",
          "name": "stdout",
          "text": [
            "Model: \"sequential\"\n",
            "_________________________________________________________________\n",
            " Layer (type)                Output Shape              Param #   \n",
            "=================================================================\n",
            " conv2d (Conv2D)             (None, 222, 222, 16)      448       \n",
            "                                                                 \n",
            " conv2d_1 (Conv2D)           (None, 220, 220, 36)      5220      \n",
            "                                                                 \n",
            " max_pooling2d (MaxPooling2  (None, 110, 110, 36)      0         \n",
            " D)                                                              \n",
            "                                                                 \n",
            " conv2d_2 (Conv2D)           (None, 108, 108, 64)      20800     \n",
            "                                                                 \n",
            " max_pooling2d_1 (MaxPoolin  (None, 54, 54, 64)        0         \n",
            " g2D)                                                            \n",
            "                                                                 \n",
            " conv2d_3 (Conv2D)           (None, 52, 52, 128)       73856     \n",
            "                                                                 \n",
            " max_pooling2d_2 (MaxPoolin  (None, 26, 26, 128)       0         \n",
            " g2D)                                                            \n",
            "                                                                 \n",
            " dropout (Dropout)           (None, 26, 26, 128)       0         \n",
            "                                                                 \n",
            " flatten (Flatten)           (None, 86528)             0         \n",
            "                                                                 \n",
            " dense (Dense)               (None, 64)                5537856   \n",
            "                                                                 \n",
            " dropout_1 (Dropout)         (None, 64)                0         \n",
            "                                                                 \n",
            " dense_1 (Dense)             (None, 1)                 65        \n",
            "                                                                 \n",
            "=================================================================\n",
            "Total params: 5638245 (21.51 MB)\n",
            "Trainable params: 5638245 (21.51 MB)\n",
            "Non-trainable params: 0 (0.00 Byte)\n",
            "_________________________________________________________________\n"
          ]
        }
      ]
    },
    {
      "cell_type": "code",
      "source": [
        "model.compile(optimizer='adam',loss=keras.losses.binary_crossentropy,metrics=['accuracy'])\n",
        "#Preparing our data using data generator\n",
        "def preprocessingImages1(path):\n",
        "  \"\"\"\n",
        "  input:Path\n",
        "  output:Pre processed images\n",
        "  \"\"\"\n",
        "  image_data=ImageDataGenerator(zoom_range=0.2,shear_range=0.2,rescale=1/255,horizontal_flip=True)\n",
        "  image = image_data.flow_from_directory(directory=path,target_size=(224,224),batch_size=32,class_mode='binary')\n",
        "\n",
        "  return image"
      ],
      "metadata": {
        "id": "H335EAbUul4D"
      },
      "execution_count": null,
      "outputs": []
    },
    {
      "cell_type": "code",
      "source": [
        "path = \"/content/train\"\n",
        "train_data = preprocessingImages1(path)"
      ],
      "metadata": {
        "colab": {
          "base_uri": "https://localhost:8080/"
        },
        "id": "y7D3NXeCuq-U",
        "outputId": "1bcbbdf2-297b-4ce5-cfc3-cc48cd6896c3"
      },
      "execution_count": null,
      "outputs": [
        {
          "output_type": "stream",
          "name": "stdout",
          "text": [
            "Found 2390 images belonging to 2 classes.\n"
          ]
        }
      ]
    },
    {
      "cell_type": "code",
      "source": [
        "# model.compile(optimizer='adam',loss=keras.losses.binary_crossentropy,metrics=['accuracy'])\n",
        "#Preparing our data using data generator\n",
        "def preprocessingImages2(path):\n",
        "  \"\"\"\n",
        "  input:Path\n",
        "  output:Pre processed images\n",
        "  \"\"\"\n",
        "  image_data=ImageDataGenerator(rescale=1/255)\n",
        "  image = image_data.flow_from_directory(directory=path,target_size=(224,224),batch_size=32,class_mode='binary')\n",
        "\n",
        "  return image"
      ],
      "metadata": {
        "id": "-2wZNgrauzha"
      },
      "execution_count": null,
      "outputs": []
    },
    {
      "cell_type": "code",
      "source": [
        "path = \"/content/test\"\n",
        "test_data = preprocessingImages2(path)"
      ],
      "metadata": {
        "colab": {
          "base_uri": "https://localhost:8080/"
        },
        "id": "bMpoPe9Ru6lc",
        "outputId": "4f76b6a8-c42c-4bb2-a9fa-4245860e604e"
      },
      "execution_count": null,
      "outputs": [
        {
          "output_type": "stream",
          "name": "stdout",
          "text": [
            "Found 590 images belonging to 2 classes.\n"
          ]
        }
      ]
    },
    {
      "cell_type": "code",
      "source": [
        "# path = \"/content/val\"\n",
        "# val_data = preprocessingImages2(path)"
      ],
      "metadata": {
        "id": "CoWb3FecvBcF"
      },
      "execution_count": null,
      "outputs": []
    },
    {
      "cell_type": "code",
      "source": [
        "#early stopping and model checkpoints\n",
        "from keras.callbacks import ModelCheckpoint,EarlyStopping\n",
        "#early stoppings\n",
        "es = EarlyStopping(monitor=\"loss\",min_delta=0.01,patience=5,verbose=1,mode='auto')\n",
        "\n",
        "#model checkpoint\n",
        "mc = ModelCheckpoint(monitor=\"loss\",filepath=\"./bestmodel.h5\",verbose=1,save_best_only=True,mode='auto')\n",
        "\n",
        "cd=[es,mc]"
      ],
      "metadata": {
        "id": "BAOI6if9vI7s"
      },
      "execution_count": null,
      "outputs": []
    },
    {
      "cell_type": "markdown",
      "source": [
        "Model Training"
      ],
      "metadata": {
        "id": "Ik3tfjaUwoB2"
      }
    },
    {
      "cell_type": "code",
      "source": [
        "history = model.fit(\n",
        "    train_data,\n",
        "    steps_per_epoch=24,\n",
        "    epochs=30,\n",
        "    verbose=1,\n",
        "    validation_data=test_data,\n",
        "    validation_steps=16,\n",
        "    callbacks=cd\n",
        ")\n"
      ],
      "metadata": {
        "colab": {
          "base_uri": "https://localhost:8080/"
        },
        "id": "wxR1X459wl4R",
        "outputId": "6b264dcb-acc6-448a-f6fc-d4c551c17aea"
      },
      "execution_count": null,
      "outputs": [
        {
          "output_type": "stream",
          "name": "stdout",
          "text": [
            "Epoch 1/30\n",
            "24/24 [==============================] - ETA: 0s - loss: 0.3700 - accuracy: 0.8555\n",
            "Epoch 1: loss improved from 0.39060 to 0.36996, saving model to ./bestmodel.h5\n",
            "24/24 [==============================] - 182s 8s/step - loss: 0.3700 - accuracy: 0.8555 - val_loss: 0.3605 - val_accuracy: 0.8535\n",
            "Epoch 2/30\n",
            "24/24 [==============================] - ETA: 0s - loss: 0.4173 - accuracy: 0.8298\n",
            "Epoch 2: loss did not improve from 0.36996\n",
            "24/24 [==============================] - 174s 7s/step - loss: 0.4173 - accuracy: 0.8298 - val_loss: 0.3462 - val_accuracy: 0.8535\n",
            "Epoch 3/30\n",
            "24/24 [==============================] - ETA: 0s - loss: 0.3837 - accuracy: 0.8464\n",
            "Epoch 3: loss did not improve from 0.36996\n",
            "24/24 [==============================] - 174s 7s/step - loss: 0.3837 - accuracy: 0.8464 - val_loss: 0.3746 - val_accuracy: 0.8555\n",
            "Epoch 4/30\n",
            "24/24 [==============================] - ETA: 0s - loss: 0.3524 - accuracy: 0.8620\n",
            "Epoch 4: loss improved from 0.36996 to 0.35244, saving model to ./bestmodel.h5\n",
            "24/24 [==============================] - 179s 8s/step - loss: 0.3524 - accuracy: 0.8620 - val_loss: 0.2917 - val_accuracy: 0.8691\n",
            "Epoch 5/30\n",
            "24/24 [==============================] - ETA: 0s - loss: 0.3172 - accuracy: 0.8776\n",
            "Epoch 5: loss improved from 0.35244 to 0.31716, saving model to ./bestmodel.h5\n",
            "24/24 [==============================] - 178s 7s/step - loss: 0.3172 - accuracy: 0.8776 - val_loss: 0.2835 - val_accuracy: 0.8867\n",
            "Epoch 6/30\n",
            "24/24 [==============================] - ETA: 0s - loss: 0.3154 - accuracy: 0.8815\n",
            "Epoch 6: loss improved from 0.31716 to 0.31537, saving model to ./bestmodel.h5\n",
            "24/24 [==============================] - 175s 7s/step - loss: 0.3154 - accuracy: 0.8815 - val_loss: 0.3345 - val_accuracy: 0.8516\n",
            "Epoch 7/30\n",
            "24/24 [==============================] - ETA: 0s - loss: 0.3524 - accuracy: 0.8620\n",
            "Epoch 7: loss did not improve from 0.31537\n",
            "24/24 [==============================] - 173s 7s/step - loss: 0.3524 - accuracy: 0.8620 - val_loss: 0.3244 - val_accuracy: 0.8691\n",
            "Epoch 8/30\n",
            "24/24 [==============================] - ETA: 0s - loss: 0.3529 - accuracy: 0.8594\n",
            "Epoch 8: loss did not improve from 0.31537\n",
            "24/24 [==============================] - 174s 7s/step - loss: 0.3529 - accuracy: 0.8594 - val_loss: 0.4085 - val_accuracy: 0.8320\n",
            "Epoch 9/30\n",
            "24/24 [==============================] - ETA: 0s - loss: 0.3160 - accuracy: 0.8737\n",
            "Epoch 9: loss did not improve from 0.31537\n",
            "24/24 [==============================] - 157s 7s/step - loss: 0.3160 - accuracy: 0.8737 - val_loss: 0.2433 - val_accuracy: 0.8887\n",
            "Epoch 10/30\n",
            "24/24 [==============================] - ETA: 0s - loss: 0.2827 - accuracy: 0.8931\n",
            "Epoch 10: loss improved from 0.31537 to 0.28274, saving model to ./bestmodel.h5\n",
            "24/24 [==============================] - 171s 7s/step - loss: 0.2827 - accuracy: 0.8931 - val_loss: 0.2999 - val_accuracy: 0.8730\n",
            "Epoch 11/30\n",
            "24/24 [==============================] - ETA: 0s - loss: 0.2766 - accuracy: 0.8880\n",
            "Epoch 11: loss improved from 0.28274 to 0.27660, saving model to ./bestmodel.h5\n",
            "24/24 [==============================] - 175s 7s/step - loss: 0.2766 - accuracy: 0.8880 - val_loss: 0.2281 - val_accuracy: 0.9062\n",
            "Epoch 12/30\n",
            "24/24 [==============================] - ETA: 0s - loss: 0.2934 - accuracy: 0.8789\n",
            "Epoch 12: loss did not improve from 0.27660\n",
            "24/24 [==============================] - 175s 7s/step - loss: 0.2934 - accuracy: 0.8789 - val_loss: 0.2255 - val_accuracy: 0.9141\n",
            "Epoch 13/30\n",
            "24/24 [==============================] - ETA: 0s - loss: 0.2422 - accuracy: 0.9011\n",
            "Epoch 13: loss improved from 0.27660 to 0.24220, saving model to ./bestmodel.h5\n",
            "24/24 [==============================] - 172s 7s/step - loss: 0.2422 - accuracy: 0.9011 - val_loss: 0.3130 - val_accuracy: 0.8711\n",
            "Epoch 14/30\n",
            "24/24 [==============================] - ETA: 0s - loss: 0.2464 - accuracy: 0.9089\n",
            "Epoch 14: loss did not improve from 0.24220\n",
            "24/24 [==============================] - 171s 7s/step - loss: 0.2464 - accuracy: 0.9089 - val_loss: 0.2406 - val_accuracy: 0.8887\n",
            "Epoch 15/30\n",
            "24/24 [==============================] - ETA: 0s - loss: 0.2765 - accuracy: 0.8906\n",
            "Epoch 15: loss did not improve from 0.24220\n",
            "24/24 [==============================] - 179s 7s/step - loss: 0.2765 - accuracy: 0.8906 - val_loss: 0.1895 - val_accuracy: 0.9258\n",
            "Epoch 16/30\n",
            "24/24 [==============================] - ETA: 0s - loss: 0.2268 - accuracy: 0.9077\n",
            "Epoch 16: loss improved from 0.24220 to 0.22678, saving model to ./bestmodel.h5\n",
            "24/24 [==============================] - 171s 7s/step - loss: 0.2268 - accuracy: 0.9077 - val_loss: 0.2900 - val_accuracy: 0.8535\n",
            "Epoch 17/30\n",
            "24/24 [==============================] - ETA: 0s - loss: 0.2070 - accuracy: 0.9193\n",
            "Epoch 17: loss improved from 0.22678 to 0.20700, saving model to ./bestmodel.h5\n",
            "24/24 [==============================] - 175s 7s/step - loss: 0.2070 - accuracy: 0.9193 - val_loss: 0.1694 - val_accuracy: 0.9355\n",
            "Epoch 18/30\n",
            "24/24 [==============================] - ETA: 0s - loss: 0.1945 - accuracy: 0.9310\n",
            "Epoch 18: loss improved from 0.20700 to 0.19449, saving model to ./bestmodel.h5\n",
            "24/24 [==============================] - 155s 6s/step - loss: 0.1945 - accuracy: 0.9310 - val_loss: 0.1736 - val_accuracy: 0.9219\n",
            "Epoch 19/30\n",
            "24/24 [==============================] - ETA: 0s - loss: 0.2310 - accuracy: 0.9077\n",
            "Epoch 19: loss did not improve from 0.19449\n",
            "24/24 [==============================] - 169s 7s/step - loss: 0.2310 - accuracy: 0.9077 - val_loss: 0.1406 - val_accuracy: 0.9434\n",
            "Epoch 20/30\n",
            "24/24 [==============================] - ETA: 0s - loss: 0.2247 - accuracy: 0.9141\n",
            "Epoch 20: loss did not improve from 0.19449\n",
            "24/24 [==============================] - 169s 7s/step - loss: 0.2247 - accuracy: 0.9141 - val_loss: 0.1320 - val_accuracy: 0.9531\n",
            "Epoch 21/30\n",
            "24/24 [==============================] - ETA: 0s - loss: 0.1789 - accuracy: 0.9258\n",
            "Epoch 21: loss improved from 0.19449 to 0.17892, saving model to ./bestmodel.h5\n",
            "24/24 [==============================] - 170s 7s/step - loss: 0.1789 - accuracy: 0.9258 - val_loss: 0.1800 - val_accuracy: 0.9395\n",
            "Epoch 22/30\n",
            "24/24 [==============================] - ETA: 0s - loss: 0.1958 - accuracy: 0.9193\n",
            "Epoch 22: loss did not improve from 0.17892\n",
            "24/24 [==============================] - 165s 7s/step - loss: 0.1958 - accuracy: 0.9193 - val_loss: 0.1529 - val_accuracy: 0.9395\n",
            "Epoch 23/30\n",
            "24/24 [==============================] - ETA: 0s - loss: 0.1957 - accuracy: 0.9116\n",
            "Epoch 23: loss did not improve from 0.17892\n",
            "24/24 [==============================] - 159s 7s/step - loss: 0.1957 - accuracy: 0.9116 - val_loss: 0.1412 - val_accuracy: 0.9551\n",
            "Epoch 24/30\n",
            "24/24 [==============================] - ETA: 0s - loss: 0.1944 - accuracy: 0.9182\n",
            "Epoch 24: loss did not improve from 0.17892\n",
            "24/24 [==============================] - 158s 7s/step - loss: 0.1944 - accuracy: 0.9182 - val_loss: 0.1099 - val_accuracy: 0.9648\n",
            "Epoch 25/30\n",
            "24/24 [==============================] - ETA: 0s - loss: 0.1772 - accuracy: 0.9284\n",
            "Epoch 25: loss improved from 0.17892 to 0.17715, saving model to ./bestmodel.h5\n",
            "24/24 [==============================] - 162s 7s/step - loss: 0.1772 - accuracy: 0.9284 - val_loss: 0.1164 - val_accuracy: 0.9551\n",
            "Epoch 26/30\n",
            "24/24 [==============================] - ETA: 0s - loss: 0.1685 - accuracy: 0.9375\n",
            "Epoch 26: loss improved from 0.17715 to 0.16855, saving model to ./bestmodel.h5\n",
            "24/24 [==============================] - 158s 7s/step - loss: 0.1685 - accuracy: 0.9375 - val_loss: 0.2874 - val_accuracy: 0.8672\n",
            "Epoch 27/30\n",
            "24/24 [==============================] - ETA: 0s - loss: 0.1570 - accuracy: 0.9388\n",
            "Epoch 27: loss improved from 0.16855 to 0.15695, saving model to ./bestmodel.h5\n",
            "24/24 [==============================] - 144s 6s/step - loss: 0.1570 - accuracy: 0.9388 - val_loss: 0.1738 - val_accuracy: 0.9395\n",
            "Epoch 28/30\n",
            "24/24 [==============================] - ETA: 0s - loss: 0.1581 - accuracy: 0.9414\n",
            "Epoch 28: loss did not improve from 0.15695\n",
            "24/24 [==============================] - 165s 7s/step - loss: 0.1581 - accuracy: 0.9414 - val_loss: 0.0803 - val_accuracy: 0.9785\n",
            "Epoch 29/30\n",
            "24/24 [==============================] - ETA: 0s - loss: 0.1369 - accuracy: 0.9565\n",
            "Epoch 29: loss improved from 0.15695 to 0.13686, saving model to ./bestmodel.h5\n",
            "24/24 [==============================] - 166s 7s/step - loss: 0.1369 - accuracy: 0.9565 - val_loss: 0.0871 - val_accuracy: 0.9707\n",
            "Epoch 30/30\n",
            "24/24 [==============================] - ETA: 0s - loss: 0.1477 - accuracy: 0.9362\n",
            "Epoch 30: loss did not improve from 0.13686\n",
            "24/24 [==============================] - 167s 7s/step - loss: 0.1477 - accuracy: 0.9362 - val_loss: 0.1283 - val_accuracy: 0.9531\n"
          ]
        }
      ]
    },
    {
      "cell_type": "code",
      "source": [
        "model.evaluate(test_data)"
      ],
      "metadata": {
        "id": "EmX4zuPs5WR1",
        "outputId": "b39ea699-6a9c-4b46-c400-d985a9f636ec",
        "colab": {
          "base_uri": "https://localhost:8080/"
        }
      },
      "execution_count": null,
      "outputs": [
        {
          "output_type": "stream",
          "name": "stdout",
          "text": [
            "19/19 [==============================] - 27s 1s/step - loss: 0.1240 - accuracy: 0.9525\n"
          ]
        },
        {
          "output_type": "execute_result",
          "data": {
            "text/plain": [
              "[0.12400861829519272, 0.9525423645973206]"
            ]
          },
          "metadata": {},
          "execution_count": 48
        }
      ]
    },
    {
      "cell_type": "code",
      "source": [
        "import matplotlib.pyplot as plt\n",
        "\n",
        "plt.plot(h.history['loss'])\n",
        "plt.plot(h.history['val_loss'])\n",
        "plt.xlabel('epochs')\n",
        "plt.ylabel('accuracy')\n",
        "\n",
        "plt.title(\"loss vs val-loss\")\n",
        "plt.legend()\n",
        "plt.show()"
      ],
      "metadata": {
        "colab": {
          "base_uri": "https://localhost:8080/",
          "height": 509
        },
        "id": "ivYHUy34MQE8",
        "outputId": "0e1c998d-2f9e-4d2a-c866-2694847b4da1"
      },
      "execution_count": null,
      "outputs": [
        {
          "output_type": "stream",
          "name": "stderr",
          "text": [
            "WARNING:matplotlib.legend:No artists with labels found to put in legend.  Note that artists whose label start with an underscore are ignored when legend() is called with no argument.\n"
          ]
        },
        {
          "output_type": "display_data",
          "data": {
            "text/plain": [
              "<Figure size 640x480 with 1 Axes>"
            ],
            "image/png": "[encoded data removed]"
          },
          "metadata": {}
        }
      ]
    },
    {
      "cell_type": "code",
      "source": [
        "import matplotlib.pyplot as plt\n",
        "\n",
        "plt.plot(h.history['accuracy'])\n",
        "plt.plot(h.history['val_accuracy'])\n",
        "plt.xlabel('epochs')\n",
        "plt.ylabel('accuracy')\n",
        "\n",
        "plt.title(\"acc vs val-acc\")\n",
        "plt.legend()\n",
        "plt.show()"
      ],
      "metadata": {
        "colab": {
          "base_uri": "https://localhost:8080/",
          "height": 509
        },
        "id": "eSatQzHuMwP5",
        "outputId": "d7ffae63-dfcc-48f0-aef4-59ee486bce7c"
      },
      "execution_count": null,
      "outputs": [
        {
          "output_type": "stream",
          "name": "stderr",
          "text": [
            "WARNING:matplotlib.legend:No artists with labels found to put in legend.  Note that artists whose label start with an underscore are ignored when legend() is called with no argument.\n"
          ]
        },
        {
          "output_type": "display_data",
          "data": {
            "text/plain": [
              "<Figure size 640x480 with 1 Axes>"
            ],
            "image/png": "[encoded data removed]"
          },
          "metadata": {}
        }
      ]
    },
    {
      "cell_type": "code",
      "source": [
        "import tensorflow as tf\n",
        "test_image = tf.keras.utils.load_img('mri-brain_web.jpg', target_size=(224,224))\n",
        "test_img = np.array(test_image)\n",
        "\n",
        "result = model.predict(test_img[np.newaxis, ...])\n",
        "\n",
        "if result == 0:\n",
        "  print('There is no tumor detected')\n",
        "else:\n",
        "  print('There is a tumor detected')"
      ],
      "metadata": {
        "colab": {
          "base_uri": "https://localhost:8080/"
        },
        "id": "VxOThPol2PJD",
        "outputId": "a91944a6-60ec-4150-db6d-0022c8ae903c"
      },
      "execution_count": null,
      "outputs": [
        {
          "output_type": "stream",
          "name": "stdout",
          "text": [
            "1/1 [==============================] - 0s 58ms/step\n",
            "There is no tumor detected\n"
          ]
        }
      ]
    },
    {
      "cell_type": "code",
      "source": [],
      "metadata": {
        "id": "1ajC0JH74Vg4"
      },
      "execution_count": null,
      "outputs": []
    }
  ]
}